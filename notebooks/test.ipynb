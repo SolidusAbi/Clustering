{
 "metadata": {
  "language_info": {
   "codemirror_mode": {
    "name": "ipython",
    "version": 3
   },
   "file_extension": ".py",
   "mimetype": "text/x-python",
   "name": "python",
   "nbconvert_exporter": "python",
   "pygments_lexer": "ipython3",
   "version": "3.7.4-final"
  },
  "orig_nbformat": 2,
  "kernelspec": {
   "name": "python3",
   "display_name": "Python 3"
  }
 },
 "nbformat": 4,
 "nbformat_minor": 2,
 "cells": [
  {
   "cell_type": "code",
   "execution_count": 1,
   "metadata": {},
   "outputs": [],
   "source": [
    "import torch\n",
    "from torch import Tensor, nn\n",
    "\n",
    "project_dir = os.path.split(os.getcwd())[0]\n",
    "if project_dir not in sys.path:\n",
    "    sys.path.append(project_dir)\n",
    "\n",
    "ipdl_dir = os.path.join(project_dir, \"ipdl/\")\n",
    "if ipdl_dir not in sys.path:\n",
    "    sys.path.append(ipdl_dir)\n",
    "\n",
    "from IPAE import MatrixEstimator, SDAE"
   ]
  },
  {
   "cell_type": "code",
   "execution_count": 2,
   "metadata": {},
   "outputs": [],
   "source": [
    "test_matrix = torch.rand((10,10))"
   ]
  },
  {
   "cell_type": "code",
   "execution_count": 3,
   "metadata": {},
   "outputs": [],
   "source": [
    "from IPDL.MatrixBasedRenyisEntropy import MutualInformation\n",
    "\n",
    "class InformationPlane():\n",
    "    '''\n",
    "        Pass a list of tensor which contents the matrices in order to calculate the\n",
    "        MutualInformation\n",
    "    '''\n",
    "    def __init__(self, matrix_estimator: list):\n",
    "        if not all(isinstance(n, MatrixEstimator) for n in matrix_estimator):\n",
    "            #lanzar error\n",
    "            pass\n",
    "\n",
    "        # First element corresponds to input A matrix and last element\n",
    "        # is the output A matrix\n",
    "        self.matrices_per_layers = matrix_estimator\n",
    "        self.Ixt = [[]] * len(matrix_estimator)-2\n",
    "        self.Iyt = [[]] * len(matrix_estimator)-2\n",
    "    \n",
    "    def calculate_mi(self):\n",
    "        Ax = self.matrices_per_layers[0]\n",
    "        Ay = self.matrices_per_layers[-1]\n",
    "\n",
    "        for idx, A in enumerate(self.matrices_per_layers[1:-1]):\n",
    "            self.Ixt[idx].append(MutualInformation(Ax, A).cpu())\n",
    "            self.Ity[idx].append(MutualInformation(A, Ay).cpu())\n",
    "\n",
    "    def get_mi(self):\n",
    "        return self.Ixt, self.Ity\n",
    "\n",
    "        \n",
    "\n",
    "\n",
    "\n"
   ]
  },
  {
   "cell_type": "code",
   "execution_count": 6,
   "metadata": {},
   "outputs": [],
   "source": [
    "model = SDAE([28*28, 1024, 512, 256, 32], dropout=False)\n",
    "# print(model)\n",
    "# print(model.get_matrix_2())\n",
    "\n",
    "ip = InformationPlane(model.get_matrix())"
   ]
  },
  {
   "cell_type": "code",
   "execution_count": 10,
   "metadata": {},
   "outputs": [
    {
     "output_type": "execute_result",
     "data": {
      "text/plain": [
       "tensor([[3.8101e-01, 2.1042e-01, 6.6698e-01, 3.9416e-01, 9.6226e-01, 9.5170e-01,\n",
       "         4.1154e-01, 7.9516e-01, 2.5094e-01, 9.7850e-01],\n",
       "        [2.0000e+02, 2.0000e+02, 2.0000e+02, 2.0000e+02, 2.0000e+02, 2.0000e+02,\n",
       "         2.0000e+02, 2.0000e+02, 2.0000e+02, 2.0000e+02],\n",
       "        [4.2366e-01, 7.7059e-01, 6.0624e-01, 4.6168e-01, 9.1084e-01, 9.2887e-01,\n",
       "         7.0689e-01, 4.6169e-01, 5.2903e-02, 8.2253e-01],\n",
       "        [1.8196e-01, 3.2821e-01, 6.5326e-02, 1.4393e-01, 5.4837e-01, 1.6378e-01,\n",
       "         9.3653e-01, 7.0106e-01, 5.2061e-02, 2.4938e-01],\n",
       "        [3.8370e-01, 9.0191e-01, 4.4588e-02, 4.0472e-02, 8.9964e-01, 6.1514e-01,\n",
       "         5.8521e-01, 7.7165e-01, 8.4367e-01, 5.7231e-02],\n",
       "        [4.4600e-01, 3.0310e-01, 8.6842e-01, 7.6613e-01, 5.7623e-01, 7.9551e-01,\n",
       "         7.8189e-01, 6.5655e-01, 5.1016e-01, 6.3854e-01],\n",
       "        [2.3456e-01, 2.7144e-01, 1.8092e-01, 7.6562e-02, 6.3162e-01, 4.8244e-01,\n",
       "         5.2851e-01, 1.0406e-01, 3.5921e-01, 9.4406e-01],\n",
       "        [8.8371e-01, 8.7881e-01, 8.6501e-02, 4.1596e-01, 4.3485e-01, 9.5080e-02,\n",
       "         4.9797e-01, 3.1210e-01, 5.9482e-01, 8.5386e-01],\n",
       "        [1.7312e-01, 5.0962e-01, 2.9894e-01, 3.1964e-01, 5.1135e-01, 2.3332e-01,\n",
       "         7.8540e-01, 7.5788e-01, 5.6321e-01, 5.1149e-01],\n",
       "        [5.5336e-01, 7.3250e-01, 8.8424e-01, 7.6304e-01, 9.3222e-01, 6.1561e-01,\n",
       "         1.2389e-01, 7.1212e-01, 8.9412e-01, 5.9228e-01]])"
      ]
     },
     "metadata": {},
     "execution_count": 10
    }
   ],
   "source": [
    "ip.A[0].A"
   ]
  },
  {
   "cell_type": "code",
   "execution_count": 9,
   "metadata": {},
   "outputs": [
    {
     "output_type": "stream",
     "name": "stdout",
     "text": [
      "tensor([[3.8101e-01, 2.1042e-01, 6.6698e-01, 3.9416e-01, 9.6226e-01, 9.5170e-01,\n         4.1154e-01, 7.9516e-01, 2.5094e-01, 9.7850e-01],\n        [2.0000e+02, 2.0000e+02, 2.0000e+02, 2.0000e+02, 2.0000e+02, 2.0000e+02,\n         2.0000e+02, 2.0000e+02, 2.0000e+02, 2.0000e+02],\n        [4.2366e-01, 7.7059e-01, 6.0624e-01, 4.6168e-01, 9.1084e-01, 9.2887e-01,\n         7.0689e-01, 4.6169e-01, 5.2903e-02, 8.2253e-01],\n        [1.8196e-01, 3.2821e-01, 6.5326e-02, 1.4393e-01, 5.4837e-01, 1.6378e-01,\n         9.3653e-01, 7.0106e-01, 5.2061e-02, 2.4938e-01],\n        [3.8370e-01, 9.0191e-01, 4.4588e-02, 4.0472e-02, 8.9964e-01, 6.1514e-01,\n         5.8521e-01, 7.7165e-01, 8.4367e-01, 5.7231e-02],\n        [4.4600e-01, 3.0310e-01, 8.6842e-01, 7.6613e-01, 5.7623e-01, 7.9551e-01,\n         7.8189e-01, 6.5655e-01, 5.1016e-01, 6.3854e-01],\n        [2.3456e-01, 2.7144e-01, 1.8092e-01, 7.6562e-02, 6.3162e-01, 4.8244e-01,\n         5.2851e-01, 1.0406e-01, 3.5921e-01, 9.4406e-01],\n        [8.8371e-01, 8.7881e-01, 8.6501e-02, 4.1596e-01, 4.3485e-01, 9.5080e-02,\n         4.9797e-01, 3.1210e-01, 5.9482e-01, 8.5386e-01],\n        [1.7312e-01, 5.0962e-01, 2.9894e-01, 3.1964e-01, 5.1135e-01, 2.3332e-01,\n         7.8540e-01, 7.5788e-01, 5.6321e-01, 5.1149e-01],\n        [5.5336e-01, 7.3250e-01, 8.8424e-01, 7.6304e-01, 9.3222e-01, 6.1561e-01,\n         1.2389e-01, 7.1212e-01, 8.9412e-01, 5.9228e-01]])\n"
     ]
    }
   ],
   "source": [
    "model.get_matrix()[0].A[1]=200\n",
    "print(model.get_matrix()[0].A)\n"
   ]
  },
  {
   "cell_type": "code",
   "execution_count": 28,
   "metadata": {},
   "outputs": [
    {
     "output_type": "execute_result",
     "data": {
      "text/plain": [
       "True"
      ]
     },
     "metadata": {},
     "execution_count": 28
    }
   ],
   "source": [
    "a = torch.arange(25).reshape(5,5)\n",
    "b = torch.arange(25, 50).reshape(5,5)\n",
    "c = [a, b]"
   ]
  },
  {
   "cell_type": "code",
   "execution_count": 22,
   "metadata": {},
   "outputs": [
    {
     "output_type": "stream",
     "name": "stdout",
     "text": [
      "tensor([[[ 0,  1,  2,  3,  4],\n         [ 5,  6,  7,  8,  9],\n         [10, 11, 12, 13, 14],\n         [15, 16, 17, 18, 19],\n         [20, 21, 22, 23, 24]],\n\n        [[25, 26, 27, 28, 29],\n         [30, 31, 32, 33, 34],\n         [35, 36, 37, 38, 39],\n         [40, 41, 42, 43, 44],\n         [45, 46, 47, 48, 49]]])\n"
     ]
    },
    {
     "output_type": "execute_result",
     "data": {
      "text/plain": [
       "torch.Size([2, 5, 5])"
      ]
     },
     "metadata": {},
     "execution_count": 22
    }
   ],
   "source": [
    "result = torch.stack(c)\n",
    "print(result)\n",
    "result.shape"
   ]
  },
  {
   "cell_type": "code",
   "execution_count": 12,
   "metadata": {},
   "outputs": [
    {
     "output_type": "stream",
     "name": "stdout",
     "text": [
      "tensor([[0.1504, 0.1226, 0.4118, 0.1564, 0.8514, 0.8295, 0.9161, 0.1021, 0.4262,\n         0.4999],\n        [0.3770, 0.5399, 0.6297, 0.8608, 0.7491, 0.9401, 0.2194, 0.7682, 0.4176,\n         0.9979],\n        [0.6599, 0.3895, 0.9410, 0.6254, 0.3814, 0.8940, 0.7112, 0.2609, 0.7171,\n         0.6370],\n        [0.9899, 0.6683, 0.9308, 0.2607, 0.5643, 0.7218, 0.0067, 0.1014, 0.5282,\n         0.1060],\n        [0.4552, 0.6025, 0.6440, 0.8796, 0.5812, 0.3284, 0.4586, 0.4851, 0.2083,\n         0.8186],\n        [0.6865, 0.0070, 0.5949, 0.8452, 0.5313, 0.3779, 0.6941, 0.1704, 0.1797,\n         0.8347],\n        [0.5058, 0.3210, 0.1708, 0.3698, 0.9904, 0.3283, 0.1075, 0.1902, 0.9411,\n         0.6207],\n        [0.6188, 0.4609, 0.0426, 0.6406, 0.2116, 0.8976, 0.2051, 0.7540, 0.4335,\n         0.3616],\n        [0.6838, 0.1760, 0.2131, 0.8948, 0.2962, 0.2037, 0.9088, 0.2722, 0.5930,\n         0.0078],\n        [0.7530, 0.7880, 0.9689, 0.9997, 0.3275, 0.6914, 0.0925, 0.0571, 0.1282,\n         0.9383]])\n"
     ]
    }
   ],
   "source": [
    "m0 = MatrixEstimator(0.8)\n",
    "m1 = MatrixEstimator(0.8)\n",
    "m2 = MatrixEstimator(0.8)\n",
    "m3 = MatrixEstimator(0.8)\n",
    "A = [m0, m1, m2, m3]\n",
    "print(A[0].A)"
   ]
  },
  {
   "cell_type": "code",
   "execution_count": 13,
   "metadata": {},
   "outputs": [
    {
     "output_type": "stream",
     "name": "stdout",
     "text": [
      "tensor([[0.0500, 0.0500, 0.0500, 0.0500, 0.0500, 0.0500, 0.0500, 0.0500, 0.0500,\n         0.0500],\n        [0.3770, 0.5399, 0.6297, 0.8608, 0.7491, 0.9401, 0.2194, 0.7682, 0.4176,\n         0.9979],\n        [0.6599, 0.3895, 0.9410, 0.6254, 0.3814, 0.8940, 0.7112, 0.2609, 0.7171,\n         0.6370],\n        [0.9899, 0.6683, 0.9308, 0.2607, 0.5643, 0.7218, 0.0067, 0.1014, 0.5282,\n         0.1060],\n        [0.4552, 0.6025, 0.6440, 0.8796, 0.5812, 0.3284, 0.4586, 0.4851, 0.2083,\n         0.8186],\n        [0.6865, 0.0070, 0.5949, 0.8452, 0.5313, 0.3779, 0.6941, 0.1704, 0.1797,\n         0.8347],\n        [0.5058, 0.3210, 0.1708, 0.3698, 0.9904, 0.3283, 0.1075, 0.1902, 0.9411,\n         0.6207],\n        [0.6188, 0.4609, 0.0426, 0.6406, 0.2116, 0.8976, 0.2051, 0.7540, 0.4335,\n         0.3616],\n        [0.6838, 0.1760, 0.2131, 0.8948, 0.2962, 0.2037, 0.9088, 0.2722, 0.5930,\n         0.0078],\n        [0.7530, 0.7880, 0.9689, 0.9997, 0.3275, 0.6914, 0.0925, 0.0571, 0.1282,\n         0.9383]])\n"
     ]
    }
   ],
   "source": [
    "m0.A[0] = 0.05\n",
    "print(A[0].A)"
   ]
  },
  {
   "cell_type": "code",
   "execution_count": 5,
   "metadata": {},
   "outputs": [],
   "source": [
    "    def get_matrix(self) -> list:\n",
    "        matrix_layers = []\n",
    "        for seq in self.sdae:\n",
    "            for module in seq:\n",
    "                if isinstance(module, MatrixEstimator):\n",
    "                    matrix_layers.append(module)\n",
    "\n",
    "\n",
    "test = nn.Sequential(\n",
    "        nn.Linear(10, 10),\n",
    "        nn.Sequential(\n",
    "            nn.Linear(10, 100),\n",
    "            nn.Linear(100, 200),\n",
    "            nn.Sequential(\n",
    "                MatrixEstimator(0.8),\n",
    "                nn.Linear(200, 10),\n",
    "            )\n",
    "        )\n",
    "    )"
   ]
  },
  {
   "cell_type": "code",
   "execution_count": 6,
   "metadata": {},
   "outputs": [
    {
     "output_type": "stream",
     "name": "stdout",
     "text": [
      "Sequential(\n  (0): Linear(in_features=10, out_features=10, bias=True)\n  (1): Sequential(\n    (0): Linear(in_features=10, out_features=100, bias=True)\n    (1): Linear(in_features=100, out_features=200, bias=True)\n    (2): Sequential(\n      (0): MatrixEstimator()\n      (1): Linear(in_features=200, out_features=10, bias=True)\n    )\n  )\n)\n"
     ]
    }
   ],
   "source": [
    "print(test)"
   ]
  },
  {
   "cell_type": "code",
   "execution_count": 8,
   "metadata": {},
   "outputs": [
    {
     "output_type": "stream",
     "name": "stdout",
     "text": [
      "[Linear(in_features=10, out_features=10, bias=True), Linear(in_features=10, out_features=100, bias=True), Linear(in_features=100, out_features=200, bias=True), Linear(in_features=200, out_features=10, bias=True)]\n"
     ]
    }
   ],
   "source": [
    "def recurrency(modules):\n",
    "    result = []\n",
    "    for module in modules:\n",
    "        if isinstance(module, (nn.Linear)):\n",
    "            result.append(module)\n",
    "        else:\n",
    "            if isinstance(module, (nn.Sequential)):\n",
    "                result.extend( recurrency(module) )\n",
    "        \n",
    "    return result\n",
    "        \n",
    "print(recurrency(test))"
   ]
  },
  {
   "cell_type": "code",
   "execution_count": 14,
   "metadata": {},
   "outputs": [
    {
     "output_type": "stream",
     "name": "stdout",
     "text": [
      "[[], [], [], [], [], [], [], []]\n"
     ]
    }
   ],
   "source": [
    "Ixt = [[]]*(10-2)\n",
    "print(Ixt)"
   ]
  },
  {
   "cell_type": "code",
   "execution_count": 16,
   "metadata": {},
   "outputs": [
    {
     "output_type": "stream",
     "name": "stdout",
     "text": [
      "2\n3\n102\n"
     ]
    }
   ],
   "source": [
    "a = [10, 2, 3 , 102, 4]\n",
    "for i in a[1:-1]:\n",
    "    print(i)"
   ]
  },
  {
   "cell_type": "code",
   "execution_count": 17,
   "metadata": {},
   "outputs": [
    {
     "output_type": "stream",
     "name": "stdout",
     "text": [
      "[[1]]\n"
     ]
    }
   ],
   "source": []
  },
  {
   "cell_type": "code",
   "execution_count": null,
   "metadata": {},
   "outputs": [],
   "source": []
  }
 ]
}