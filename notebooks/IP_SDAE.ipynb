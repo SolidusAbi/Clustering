{
 "metadata": {
  "language_info": {
   "codemirror_mode": {
    "name": "ipython",
    "version": 3
   },
   "file_extension": ".py",
   "mimetype": "text/x-python",
   "name": "python",
   "nbconvert_exporter": "python",
   "pygments_lexer": "ipython3",
   "version": "3.7.4-final"
  },
  "orig_nbformat": 2,
  "kernelspec": {
   "name": "python3",
   "display_name": "Python 3"
  }
 },
 "nbformat": 4,
 "nbformat_minor": 2,
 "cells": [
  {
   "source": [
    "# Otro test "
   ],
   "cell_type": "markdown",
   "metadata": {}
  },
  {
   "cell_type": "code",
   "execution_count": 1,
   "metadata": {},
   "outputs": [],
   "source": [
    "project_dir = os.path.split(os.getcwd())[0]\n",
    "if project_dir not in sys.path:\n",
    "    sys.path.append(project_dir)\n",
    "\n",
    "ipdl_dir = os.path.join(project_dir, \"ipdl/\")\n",
    "if ipdl_dir not in sys.path:\n",
    "    sys.path.append(ipdl_dir)"
   ]
  },
  {
   "cell_type": "code",
   "execution_count": 2,
   "metadata": {},
   "outputs": [],
   "source": [
    "import torch\n",
    "from torch import tensor, Tensor\n",
    "from torch import nn\n",
    "\n",
    "from IPAE import SDAE"
   ]
  },
  {
   "cell_type": "code",
   "execution_count": 3,
   "metadata": {},
   "outputs": [],
   "source": [
    "from IPDL import MatrixBasedRenyisEntropy\n",
    "from IPAE import MatrixEstimator\n",
    "\n",
    "class InformationPlane():\n",
    "    '''\n",
    "        Pass a list of tensor which contents the matrices in order to calculate the\n",
    "        MutualInformation\n",
    "    '''\n",
    "    def __init__(self, matrix_estimator: list):\n",
    "        if not all(isinstance(n, MatrixEstimator) for n in matrix_estimator):\n",
    "            #lanzar error\n",
    "            pass\n",
    "\n",
    "        # First element corresponds to input A matrix and last element\n",
    "        # is the output A matrix\n",
    "        self.matrices_per_layers = matrix_estimator\n",
    "        self.Ixt = []\n",
    "        self.Ity = []\n",
    "        for i in range(len(matrix_estimator)-2):\n",
    "            self.Ixt.append([])\n",
    "            self.Ity.append([])\n",
    "    \n",
    "    def calculate_mi(self):\n",
    "        Ax = self.matrices_per_layers[0].A\n",
    "        Ay = self.matrices_per_layers[-1].A\n",
    "\n",
    "        for idx, matrix_estimator in enumerate(self.matrices_per_layers[1:-1]):\n",
    "            self.Ixt[idx].append(MatrixBasedRenyisEntropy.mutualInformation(Ax, matrix_estimator.A).cpu())\n",
    "            self.Ity[idx].append(MatrixBasedRenyisEntropy.mutualInformation(matrix_estimator.A, Ay).cpu())\n",
    "\n",
    "    def get_mi(self):\n",
    "        return self.Ixt, self.Ity"
   ]
  },
  {
   "cell_type": "code",
   "execution_count": 4,
   "metadata": {},
   "outputs": [],
   "source": [
    "device = 'cuda' if torch.cuda.is_available() else 'cpu'\n",
    "model = SDAE([28*28, 1000, 500, 250, 24], dropout=False).to(device)"
   ]
  },
  {
   "cell_type": "code",
   "execution_count": 5,
   "metadata": {},
   "outputs": [
    {
     "output_type": "stream",
     "name": "stdout",
     "text": [
      "SDAE(\n  (sdae): Sequential(\n    (0): MatrixEstimator()\n    (1): Sequential(\n      (0): Linear(in_features=784, out_features=1000, bias=True)\n      (1): ReLU(inplace=True)\n      (2): MatrixEstimator()\n    )\n    (2): Sequential(\n      (0): Linear(in_features=1000, out_features=500, bias=True)\n      (1): ReLU(inplace=True)\n      (2): MatrixEstimator()\n    )\n    (3): Sequential(\n      (0): Linear(in_features=500, out_features=250, bias=True)\n      (1): ReLU(inplace=True)\n      (2): MatrixEstimator()\n    )\n    (4): Sequential(\n      (0): Linear(in_features=250, out_features=24, bias=True)\n      (1): MatrixEstimator()\n    )\n    (5): Sequential(\n      (0): Linear(in_features=24, out_features=250, bias=True)\n      (1): ReLU(inplace=True)\n      (2): MatrixEstimator()\n    )\n    (6): Sequential(\n      (0): Linear(in_features=250, out_features=500, bias=True)\n      (1): ReLU(inplace=True)\n      (2): MatrixEstimator()\n    )\n    (7): Sequential(\n      (0): Linear(in_features=500, out_features=1000, bias=True)\n      (1): ReLU(inplace=True)\n      (2): MatrixEstimator()\n    )\n    (8): Sequential(\n      (0): Linear(in_features=1000, out_features=784, bias=True)\n      (1): MatrixEstimator()\n    )\n  )\n  (ae): Sequential(\n    (0): AutoEncoder(\n      (encode): Sequential(\n        (0): Dropout(p=0.2, inplace=False)\n        (1): Linear(in_features=784, out_features=1000, bias=True)\n        (2): ReLU(inplace=True)\n        (3): MatrixEstimator()\n      )\n      (decode): Sequential(\n        (0): Dropout(p=0.2, inplace=False)\n        (1): Linear(in_features=1000, out_features=784, bias=True)\n        (2): Identity()\n        (3): MatrixEstimator()\n      )\n      (criterion): MSELoss()\n    )\n    (1): AutoEncoder(\n      (encode): Sequential(\n        (0): Dropout(p=0.2, inplace=False)\n        (1): Linear(in_features=1000, out_features=500, bias=True)\n        (2): ReLU(inplace=True)\n        (3): MatrixEstimator()\n      )\n      (decode): Sequential(\n        (0): Dropout(p=0.2, inplace=False)\n        (1): Linear(in_features=500, out_features=1000, bias=True)\n        (2): ReLU(inplace=True)\n        (3): MatrixEstimator()\n      )\n      (criterion): MSELoss()\n    )\n    (2): AutoEncoder(\n      (encode): Sequential(\n        (0): Dropout(p=0.2, inplace=False)\n        (1): Linear(in_features=500, out_features=250, bias=True)\n        (2): ReLU(inplace=True)\n        (3): MatrixEstimator()\n      )\n      (decode): Sequential(\n        (0): Dropout(p=0.2, inplace=False)\n        (1): Linear(in_features=250, out_features=500, bias=True)\n        (2): ReLU(inplace=True)\n        (3): MatrixEstimator()\n      )\n      (criterion): MSELoss()\n    )\n    (3): AutoEncoder(\n      (encode): Sequential(\n        (0): Dropout(p=0.2, inplace=False)\n        (1): Linear(in_features=250, out_features=24, bias=True)\n        (2): Identity()\n        (3): MatrixEstimator()\n      )\n      (decode): Sequential(\n        (0): Dropout(p=0.2, inplace=False)\n        (1): Linear(in_features=24, out_features=250, bias=True)\n        (2): ReLU(inplace=True)\n        (3): MatrixEstimator()\n      )\n      (criterion): MSELoss()\n    )\n  )\n)\n"
     ]
    }
   ],
   "source": [
    "print(model)"
   ]
  },
  {
   "source": [
    "# Training"
   ],
   "cell_type": "markdown",
   "metadata": {}
  },
  {
   "cell_type": "code",
   "execution_count": 6,
   "metadata": {},
   "outputs": [],
   "source": [
    "from torch.utils.data import DataLoader\n",
    "import torchvision\n",
    "from torchvision.transforms import Compose, ToTensor, Normalize, Lambda\n",
    "from torchvision.utils import save_image\n",
    "from tqdm import tqdm\n",
    "\n",
    "device = 'cuda' if torch.cuda.is_available() else 'cpu'\n",
    "\n",
    "transformToTensor = Compose([\n",
    "            ToTensor(), # first, convert image to PyTorch tensor\n",
    "            # Normalize((0.5,), (0.5,)),\n",
    "            Normalize((0.1307,), (0.3081,)), # normalize inputs\n",
    "            Lambda(lambda x: torch.flatten(x)) # Auto-flatten\n",
    "        ])\n",
    "\n",
    "train_dataset = torchvision.datasets.MNIST(\"../datasets/MNIST/\", train=True, download=True, transform=transformToTensor)\n",
    "dataloader = DataLoader(train_dataset, batch_size=128, shuffle=True, num_workers=0)\n",
    "\n",
    "test_dataset = torchvision.datasets.MNIST(\"../datasets/MNIST/\", train=False, download=False, transform=transformToTensor)\n",
    "test_loader = DataLoader(test_dataset, batch_size=1024, shuffle=False, num_workers=0) \n",
    "\n",
    "model = model.to(device)"
   ]
  },
  {
   "source": [
    "## Layer-wise training"
   ],
   "cell_type": "markdown",
   "metadata": {}
  },
  {
   "cell_type": "code",
   "execution_count": 7,
   "metadata": {},
   "outputs": [
    {
     "output_type": "stream",
     "name": "stderr",
     "text": [
      "100%|██████████| 3/3 [00:41<00:00, 13.86s/it]\n"
     ]
    }
   ],
   "source": [
    "for epoch in tqdm(range(3)):\n",
    "    for inputs, targets in dataloader:\n",
    "        inputs = inputs.to(device)\n",
    "        model.layer_wise_training(inputs)"
   ]
  },
  {
   "source": [
    "## SDAE Training"
   ],
   "cell_type": "markdown",
   "metadata": {}
  },
  {
   "source": [
    "## Calculating Mutual Information during Training"
   ],
   "cell_type": "markdown",
   "metadata": {}
  },
  {
   "cell_type": "code",
   "execution_count": 7,
   "metadata": {},
   "outputs": [
    {
     "output_type": "stream",
     "name": "stderr",
     "text": [
      "100%|██████████| 10/10 [02:31<00:00, 15.15s/epoch, lss=0.125820, vls=0.135111]\n"
     ]
    }
   ],
   "source": [
    "n_epoch = 10\n",
    "criterion = nn.MSELoss()\n",
    "optimizer = torch.optim.SGD(model.parameters(), lr=0.1, momentum=0.9)\n",
    "scheduler = torch.optim.lr_scheduler.StepLR(optimizer, 30, gamma=0.1)\n",
    "\n",
    "model.train()\n",
    "\n",
    "eval_inputs, _ = next(iter(test_loader))\n",
    "eval_inputs = eval_inputs.to(device)\n",
    "\n",
    "epoch_iterator = tqdm(\n",
    "    range(n_epoch),\n",
    "    leave=True,\n",
    "    unit=\"epoch\",\n",
    "    postfix={\"lss\": \"%.6f\" % 0.0, \"vls\": \"%.6f\" % -1,},\n",
    ")\n",
    "\n",
    "ip = InformationPlane(model.get_matrix())\n",
    "\n",
    "for epoch in epoch_iterator:\n",
    "    for idx, (inputs, _) in enumerate(dataloader):\n",
    "        inputs = inputs.flatten(1).to(device)\n",
    "\n",
    "        optimizer.zero_grad()\n",
    "\n",
    "        outputs = model(inputs)\n",
    "\n",
    "        loss = criterion(outputs, inputs)\n",
    "        loss_value = float(loss.item())        \n",
    "        loss.backward()\n",
    "\n",
    "        optimizer.step()\n",
    "\n",
    "        if idx % 25 == 0:\n",
    "            model.eval()\n",
    "            outputs = model(eval_inputs.flatten(1))\n",
    "            eval_loss_value = float((criterion(outputs, eval_inputs.flatten(1))).item())\n",
    "            epoch_iterator.set_postfix(\n",
    "                lss=\"%.6f\" % loss_value, vls=\"%.6f\" % eval_loss_value,\n",
    "            )\n",
    "            model.train()\n",
    "    \n",
    "    scheduler.step()\n",
    "    \n",
    "    ip.calculate_mi()"
   ]
  },
  {
   "cell_type": "code",
   "execution_count": 9,
   "metadata": {},
   "outputs": [
    {
     "output_type": "display_data",
     "data": {
      "text/plain": "<Figure size 864x864 with 1 Axes>",
      "image/svg+xml": "<?xml version=\"1.0\" encoding=\"utf-8\" standalone=\"no\"?>\n<!DOCTYPE svg PUBLIC \"-//W3C//DTD SVG 1.1//EN\"\n  \"http://www.w3.org/Graphics/SVG/1.1/DTD/svg11.dtd\">\n<!-- Created with matplotlib (https://matplotlib.org/) -->\n<svg height=\"683.398125pt\" version=\"1.1\" viewBox=\"0 0 697.3625 683.398125\" width=\"697.3625pt\" xmlns=\"http://www.w3.org/2000/svg\" xmlns:xlink=\"http://www.w3.org/1999/xlink\">\n <defs>\n  <style type=\"text/css\">\n*{stroke-linecap:butt;stroke-linejoin:round;white-space:pre;}\n  </style>\n </defs>\n <g id=\"figure_1\">\n  <g id=\"patch_1\">\n   <path d=\"M 0 683.398125 \nL 697.3625 683.398125 \nL 697.3625 0 \nL 0 0 \nz\n\" style=\"fill:none;\"/>\n  </g>\n  <g id=\"axes_1\">\n   <g id=\"patch_2\">\n    <path d=\"M 20.5625 659.52 \nL 690.1625 659.52 \nL 690.1625 7.2 \nL 20.5625 7.2 \nz\n\" style=\"fill:#ffffff;\"/>\n   </g>\n   <g id=\"PathCollection_1\">\n    <defs>\n     <path d=\"M 0 3 \nC 0.795609 3 1.55874 2.683901 2.12132 2.12132 \nC 2.683901 1.55874 3 0.795609 3 0 \nC 3 -0.795609 2.683901 -1.55874 2.12132 -2.12132 \nC 1.55874 -2.683901 0.795609 -3 0 -3 \nC -0.795609 -3 -1.55874 -2.683901 -2.12132 -2.12132 \nC -2.683901 -1.55874 -3 -0.795609 -3 0 \nC -3 0.795609 -2.683901 1.55874 -2.12132 2.12132 \nC -1.55874 2.683901 -0.795609 3 0 3 \nz\n\" id=\"m475c92f229\" style=\"stroke:#1f77b4;\"/>\n    </defs>\n    <g clip-path=\"url(#p1dbc649af4)\">\n     <use style=\"fill:#1f77b4;stroke:#1f77b4;\" x=\"260.152917\" xlink:href=\"#m475c92f229\" y=\"659.509108\"/>\n     <use style=\"fill:#1f77b4;stroke:#1f77b4;\" x=\"260.114493\" xlink:href=\"#m475c92f229\" y=\"659.51137\"/>\n    </g>\n   </g>\n   <g id=\"PathCollection_2\">\n    <defs>\n     <path d=\"M 0 3 \nC 0.795609 3 1.55874 2.683901 2.12132 2.12132 \nC 2.683901 1.55874 3 0.795609 3 0 \nC 3 -0.795609 2.683901 -1.55874 2.12132 -2.12132 \nC 1.55874 -2.683901 0.795609 -3 0 -3 \nC -0.795609 -3 -1.55874 -2.683901 -2.12132 -2.12132 \nC -2.683901 -1.55874 -3 -0.795609 -3 0 \nC -3 0.795609 -2.683901 1.55874 -2.12132 2.12132 \nC -1.55874 2.683901 -0.795609 3 0 3 \nz\n\" id=\"m6fac6e942c\" style=\"stroke:#ff7f0e;\"/>\n    </defs>\n    <g clip-path=\"url(#p1dbc649af4)\">\n     <use style=\"fill:#ff7f0e;stroke:#ff7f0e;\" x=\"206.485176\" xlink:href=\"#m6fac6e942c\" y=\"659.509264\"/>\n     <use style=\"fill:#ff7f0e;stroke:#ff7f0e;\" x=\"206.451182\" xlink:href=\"#m6fac6e942c\" y=\"659.511292\"/>\n    </g>\n   </g>\n   <g id=\"PathCollection_3\">\n    <defs>\n     <path d=\"M 0 3 \nC 0.795609 3 1.55874 2.683901 2.12132 2.12132 \nC 2.683901 1.55874 3 0.795609 3 0 \nC 3 -0.795609 2.683901 -1.55874 2.12132 -2.12132 \nC 1.55874 -2.683901 0.795609 -3 0 -3 \nC -0.795609 -3 -1.55874 -2.683901 -2.12132 -2.12132 \nC -2.683901 -1.55874 -3 -0.795609 -3 0 \nC -3 0.795609 -2.683901 1.55874 -2.12132 2.12132 \nC -1.55874 2.683901 -0.795609 3 0 3 \nz\n\" id=\"m1814fcfd47\" style=\"stroke:#2ca02c;\"/>\n    </defs>\n    <g clip-path=\"url(#p1dbc649af4)\">\n     <use style=\"fill:#2ca02c;stroke:#2ca02c;\" x=\"197.278998\" xlink:href=\"#m1814fcfd47\" y=\"659.50942\"/>\n     <use style=\"fill:#2ca02c;stroke:#2ca02c;\" x=\"197.168211\" xlink:href=\"#m1814fcfd47\" y=\"659.51163\"/>\n    </g>\n   </g>\n   <g id=\"PathCollection_4\">\n    <defs>\n     <path d=\"M 0 3 \nC 0.795609 3 1.55874 2.683901 2.12132 2.12132 \nC 2.683901 1.55874 3 0.795609 3 0 \nC 3 -0.795609 2.683901 -1.55874 2.12132 -2.12132 \nC 1.55874 -2.683901 0.795609 -3 0 -3 \nC -0.795609 -3 -1.55874 -2.683901 -2.12132 -2.12132 \nC -2.683901 -1.55874 -3 -0.795609 -3 0 \nC -3 0.795609 -2.683901 1.55874 -2.12132 2.12132 \nC -1.55874 2.683901 -0.795609 3 0 3 \nz\n\" id=\"m93f0c57300\" style=\"stroke:#d62728;\"/>\n    </defs>\n    <g clip-path=\"url(#p1dbc649af4)\">\n     <use style=\"fill:#d62728;stroke:#d62728;\" x=\"20.568851\" xlink:href=\"#m93f0c57300\" y=\"659.51094\"/>\n     <use style=\"fill:#d62728;stroke:#d62728;\" x=\"20.572639\" xlink:href=\"#m93f0c57300\" y=\"659.511154\"/>\n    </g>\n   </g>\n   <g id=\"PathCollection_5\">\n    <defs>\n     <path d=\"M 0 3 \nC 0.795609 3 1.55874 2.683901 2.12132 2.12132 \nC 2.683901 1.55874 3 0.795609 3 0 \nC 3 -0.795609 2.683901 -1.55874 2.12132 -2.12132 \nC 1.55874 -2.683901 0.795609 -3 0 -3 \nC -0.795609 -3 -1.55874 -2.683901 -2.12132 -2.12132 \nC -2.683901 -1.55874 -3 -0.795609 -3 0 \nC -3 0.795609 -2.683901 1.55874 -2.12132 2.12132 \nC -1.55874 2.683901 -0.795609 3 0 3 \nz\n\" id=\"mdf8c78c1f6\" style=\"stroke:#9467bd;\"/>\n    </defs>\n    <g clip-path=\"url(#p1dbc649af4)\">\n     <use style=\"fill:#9467bd;stroke:#9467bd;\" x=\"20.567623\" xlink:href=\"#mdf8c78c1f6\" y=\"659.511143\"/>\n     <use style=\"fill:#9467bd;stroke:#9467bd;\" x=\"20.567623\" xlink:href=\"#mdf8c78c1f6\" y=\"659.512059\"/>\n    </g>\n   </g>\n   <g id=\"PathCollection_6\">\n    <defs>\n     <path d=\"M 0 3 \nC 0.795609 3 1.55874 2.683901 2.12132 2.12132 \nC 2.683901 1.55874 3 0.795609 3 0 \nC 3 -0.795609 2.683901 -1.55874 2.12132 -2.12132 \nC 1.55874 -2.683901 0.795609 -3 0 -3 \nC -0.795609 -3 -1.55874 -2.683901 -2.12132 -2.12132 \nC -2.683901 -1.55874 -3 -0.795609 -3 0 \nC -3 0.795609 -2.683901 1.55874 -2.12132 2.12132 \nC -1.55874 2.683901 -0.795609 3 0 3 \nz\n\" id=\"m4098df5468\" style=\"stroke:#8c564b;\"/>\n    </defs>\n    <g clip-path=\"url(#p1dbc649af4)\">\n     <use style=\"fill:#8c564b;stroke:#8c564b;\" x=\"20.567623\" xlink:href=\"#m4098df5468\" y=\"659.511143\"/>\n     <use style=\"fill:#8c564b;stroke:#8c564b;\" x=\"20.567623\" xlink:href=\"#m4098df5468\" y=\"659.512059\"/>\n    </g>\n   </g>\n   <g id=\"PathCollection_7\">\n    <defs>\n     <path d=\"M 0 3 \nC 0.795609 3 1.55874 2.683901 2.12132 2.12132 \nC 2.683901 1.55874 3 0.795609 3 0 \nC 3 -0.795609 2.683901 -1.55874 2.12132 -2.12132 \nC 1.55874 -2.683901 0.795609 -3 0 -3 \nC -0.795609 -3 -1.55874 -2.683901 -2.12132 -2.12132 \nC -2.683901 -1.55874 -3 -0.795609 -3 0 \nC -3 0.795609 -2.683901 1.55874 -2.12132 2.12132 \nC -1.55874 2.683901 -0.795609 3 0 3 \nz\n\" id=\"m0c3d5d4880\" style=\"stroke:#e377c2;\"/>\n    </defs>\n    <g clip-path=\"url(#p1dbc649af4)\">\n     <use style=\"fill:#e377c2;stroke:#e377c2;\" x=\"20.567623\" xlink:href=\"#m0c3d5d4880\" y=\"659.511143\"/>\n     <use style=\"fill:#e377c2;stroke:#e377c2;\" x=\"20.567623\" xlink:href=\"#m0c3d5d4880\" y=\"659.512059\"/>\n    </g>\n   </g>\n   <g id=\"matplotlib.axis_1\">\n    <g id=\"xtick_1\">\n     <g id=\"line2d_1\">\n      <defs>\n       <path d=\"M 0 0 \nL 0 3.5 \n\" id=\"m05dc732561\" style=\"stroke:#000000;stroke-width:0.8;\"/>\n      </defs>\n      <g>\n       <use style=\"stroke:#000000;stroke-width:0.8;\" x=\"20.5625\" xlink:href=\"#m05dc732561\" y=\"659.52\"/>\n      </g>\n     </g>\n     <g id=\"text_1\">\n      <!-- 0 -->\n      <defs>\n       <path d=\"M 31.78125 66.40625 \nQ 24.171875 66.40625 20.328125 58.90625 \nQ 16.5 51.421875 16.5 36.375 \nQ 16.5 21.390625 20.328125 13.890625 \nQ 24.171875 6.390625 31.78125 6.390625 \nQ 39.453125 6.390625 43.28125 13.890625 \nQ 47.125 21.390625 47.125 36.375 \nQ 47.125 51.421875 43.28125 58.90625 \nQ 39.453125 66.40625 31.78125 66.40625 \nz\nM 31.78125 74.21875 \nQ 44.046875 74.21875 50.515625 64.515625 \nQ 56.984375 54.828125 56.984375 36.375 \nQ 56.984375 17.96875 50.515625 8.265625 \nQ 44.046875 -1.421875 31.78125 -1.421875 \nQ 19.53125 -1.421875 13.0625 8.265625 \nQ 6.59375 17.96875 6.59375 36.375 \nQ 6.59375 54.828125 13.0625 64.515625 \nQ 19.53125 74.21875 31.78125 74.21875 \nz\n\" id=\"DejaVuSans-48\"/>\n      </defs>\n      <g transform=\"translate(17.38125 674.118438)scale(0.1 -0.1)\">\n       <use xlink:href=\"#DejaVuSans-48\"/>\n      </g>\n     </g>\n    </g>\n    <g id=\"xtick_2\">\n     <g id=\"line2d_2\">\n      <g>\n       <use style=\"stroke:#000000;stroke-width:0.8;\" x=\"132.478576\" xlink:href=\"#m05dc732561\" y=\"659.52\"/>\n      </g>\n     </g>\n     <g id=\"text_2\">\n      <!-- 1 -->\n      <defs>\n       <path d=\"M 12.40625 8.296875 \nL 28.515625 8.296875 \nL 28.515625 63.921875 \nL 10.984375 60.40625 \nL 10.984375 69.390625 \nL 28.421875 72.90625 \nL 38.28125 72.90625 \nL 38.28125 8.296875 \nL 54.390625 8.296875 \nL 54.390625 0 \nL 12.40625 0 \nz\n\" id=\"DejaVuSans-49\"/>\n      </defs>\n      <g transform=\"translate(129.297326 674.118438)scale(0.1 -0.1)\">\n       <use xlink:href=\"#DejaVuSans-49\"/>\n      </g>\n     </g>\n    </g>\n    <g id=\"xtick_3\">\n     <g id=\"line2d_3\">\n      <g>\n       <use style=\"stroke:#000000;stroke-width:0.8;\" x=\"244.394653\" xlink:href=\"#m05dc732561\" y=\"659.52\"/>\n      </g>\n     </g>\n     <g id=\"text_3\">\n      <!-- 2 -->\n      <defs>\n       <path d=\"M 19.1875 8.296875 \nL 53.609375 8.296875 \nL 53.609375 0 \nL 7.328125 0 \nL 7.328125 8.296875 \nQ 12.9375 14.109375 22.625 23.890625 \nQ 32.328125 33.6875 34.8125 36.53125 \nQ 39.546875 41.84375 41.421875 45.53125 \nQ 43.3125 49.21875 43.3125 52.78125 \nQ 43.3125 58.59375 39.234375 62.25 \nQ 35.15625 65.921875 28.609375 65.921875 \nQ 23.96875 65.921875 18.8125 64.3125 \nQ 13.671875 62.703125 7.8125 59.421875 \nL 7.8125 69.390625 \nQ 13.765625 71.78125 18.9375 73 \nQ 24.125 74.21875 28.421875 74.21875 \nQ 39.75 74.21875 46.484375 68.546875 \nQ 53.21875 62.890625 53.21875 53.421875 \nQ 53.21875 48.921875 51.53125 44.890625 \nQ 49.859375 40.875 45.40625 35.40625 \nQ 44.1875 33.984375 37.640625 27.21875 \nQ 31.109375 20.453125 19.1875 8.296875 \nz\n\" id=\"DejaVuSans-50\"/>\n      </defs>\n      <g transform=\"translate(241.213403 674.118438)scale(0.1 -0.1)\">\n       <use xlink:href=\"#DejaVuSans-50\"/>\n      </g>\n     </g>\n    </g>\n    <g id=\"xtick_4\">\n     <g id=\"line2d_4\">\n      <g>\n       <use style=\"stroke:#000000;stroke-width:0.8;\" x=\"356.310729\" xlink:href=\"#m05dc732561\" y=\"659.52\"/>\n      </g>\n     </g>\n     <g id=\"text_4\">\n      <!-- 3 -->\n      <defs>\n       <path d=\"M 40.578125 39.3125 \nQ 47.65625 37.796875 51.625 33 \nQ 55.609375 28.21875 55.609375 21.1875 \nQ 55.609375 10.40625 48.1875 4.484375 \nQ 40.765625 -1.421875 27.09375 -1.421875 \nQ 22.515625 -1.421875 17.65625 -0.515625 \nQ 12.796875 0.390625 7.625 2.203125 \nL 7.625 11.71875 \nQ 11.71875 9.328125 16.59375 8.109375 \nQ 21.484375 6.890625 26.8125 6.890625 \nQ 36.078125 6.890625 40.9375 10.546875 \nQ 45.796875 14.203125 45.796875 21.1875 \nQ 45.796875 27.640625 41.28125 31.265625 \nQ 36.765625 34.90625 28.71875 34.90625 \nL 20.21875 34.90625 \nL 20.21875 43.015625 \nL 29.109375 43.015625 \nQ 36.375 43.015625 40.234375 45.921875 \nQ 44.09375 48.828125 44.09375 54.296875 \nQ 44.09375 59.90625 40.109375 62.90625 \nQ 36.140625 65.921875 28.71875 65.921875 \nQ 24.65625 65.921875 20.015625 65.03125 \nQ 15.375 64.15625 9.8125 62.3125 \nL 9.8125 71.09375 \nQ 15.4375 72.65625 20.34375 73.4375 \nQ 25.25 74.21875 29.59375 74.21875 \nQ 40.828125 74.21875 47.359375 69.109375 \nQ 53.90625 64.015625 53.90625 55.328125 \nQ 53.90625 49.265625 50.4375 45.09375 \nQ 46.96875 40.921875 40.578125 39.3125 \nz\n\" id=\"DejaVuSans-51\"/>\n      </defs>\n      <g transform=\"translate(353.129479 674.118438)scale(0.1 -0.1)\">\n       <use xlink:href=\"#DejaVuSans-51\"/>\n      </g>\n     </g>\n    </g>\n    <g id=\"xtick_5\">\n     <g id=\"line2d_5\">\n      <g>\n       <use style=\"stroke:#000000;stroke-width:0.8;\" x=\"468.226806\" xlink:href=\"#m05dc732561\" y=\"659.52\"/>\n      </g>\n     </g>\n     <g id=\"text_5\">\n      <!-- 4 -->\n      <defs>\n       <path d=\"M 37.796875 64.3125 \nL 12.890625 25.390625 \nL 37.796875 25.390625 \nz\nM 35.203125 72.90625 \nL 47.609375 72.90625 \nL 47.609375 25.390625 \nL 58.015625 25.390625 \nL 58.015625 17.1875 \nL 47.609375 17.1875 \nL 47.609375 0 \nL 37.796875 0 \nL 37.796875 17.1875 \nL 4.890625 17.1875 \nL 4.890625 26.703125 \nz\n\" id=\"DejaVuSans-52\"/>\n      </defs>\n      <g transform=\"translate(465.045556 674.118438)scale(0.1 -0.1)\">\n       <use xlink:href=\"#DejaVuSans-52\"/>\n      </g>\n     </g>\n    </g>\n    <g id=\"xtick_6\">\n     <g id=\"line2d_6\">\n      <g>\n       <use style=\"stroke:#000000;stroke-width:0.8;\" x=\"580.142882\" xlink:href=\"#m05dc732561\" y=\"659.52\"/>\n      </g>\n     </g>\n     <g id=\"text_6\">\n      <!-- 5 -->\n      <defs>\n       <path d=\"M 10.796875 72.90625 \nL 49.515625 72.90625 \nL 49.515625 64.59375 \nL 19.828125 64.59375 \nL 19.828125 46.734375 \nQ 21.96875 47.46875 24.109375 47.828125 \nQ 26.265625 48.1875 28.421875 48.1875 \nQ 40.625 48.1875 47.75 41.5 \nQ 54.890625 34.8125 54.890625 23.390625 \nQ 54.890625 11.625 47.5625 5.09375 \nQ 40.234375 -1.421875 26.90625 -1.421875 \nQ 22.3125 -1.421875 17.546875 -0.640625 \nQ 12.796875 0.140625 7.71875 1.703125 \nL 7.71875 11.625 \nQ 12.109375 9.234375 16.796875 8.0625 \nQ 21.484375 6.890625 26.703125 6.890625 \nQ 35.15625 6.890625 40.078125 11.328125 \nQ 45.015625 15.765625 45.015625 23.390625 \nQ 45.015625 31 40.078125 35.4375 \nQ 35.15625 39.890625 26.703125 39.890625 \nQ 22.75 39.890625 18.8125 39.015625 \nQ 14.890625 38.140625 10.796875 36.28125 \nz\n\" id=\"DejaVuSans-53\"/>\n      </defs>\n      <g transform=\"translate(576.961632 674.118438)scale(0.1 -0.1)\">\n       <use xlink:href=\"#DejaVuSans-53\"/>\n      </g>\n     </g>\n    </g>\n   </g>\n   <g id=\"matplotlib.axis_2\">\n    <g id=\"ytick_1\">\n     <g id=\"line2d_7\">\n      <defs>\n       <path d=\"M 0 0 \nL -3.5 0 \n\" id=\"m05364434f7\" style=\"stroke:#000000;stroke-width:0.8;\"/>\n      </defs>\n      <g>\n       <use style=\"stroke:#000000;stroke-width:0.8;\" x=\"20.5625\" xlink:href=\"#m05364434f7\" y=\"659.52\"/>\n      </g>\n     </g>\n     <g id=\"text_7\">\n      <!-- 0 -->\n      <g transform=\"translate(7.2 663.319219)scale(0.1 -0.1)\">\n       <use xlink:href=\"#DejaVuSans-48\"/>\n      </g>\n     </g>\n    </g>\n    <g id=\"ytick_2\">\n     <g id=\"line2d_8\">\n      <g>\n       <use style=\"stroke:#000000;stroke-width:0.8;\" x=\"20.5625\" xlink:href=\"#m05364434f7\" y=\"550.49208\"/>\n      </g>\n     </g>\n     <g id=\"text_8\">\n      <!-- 1 -->\n      <g transform=\"translate(7.2 554.291299)scale(0.1 -0.1)\">\n       <use xlink:href=\"#DejaVuSans-49\"/>\n      </g>\n     </g>\n    </g>\n    <g id=\"ytick_3\">\n     <g id=\"line2d_9\">\n      <g>\n       <use style=\"stroke:#000000;stroke-width:0.8;\" x=\"20.5625\" xlink:href=\"#m05364434f7\" y=\"441.464161\"/>\n      </g>\n     </g>\n     <g id=\"text_9\">\n      <!-- 2 -->\n      <g transform=\"translate(7.2 445.26338)scale(0.1 -0.1)\">\n       <use xlink:href=\"#DejaVuSans-50\"/>\n      </g>\n     </g>\n    </g>\n    <g id=\"ytick_4\">\n     <g id=\"line2d_10\">\n      <g>\n       <use style=\"stroke:#000000;stroke-width:0.8;\" x=\"20.5625\" xlink:href=\"#m05364434f7\" y=\"332.436241\"/>\n      </g>\n     </g>\n     <g id=\"text_10\">\n      <!-- 3 -->\n      <g transform=\"translate(7.2 336.23546)scale(0.1 -0.1)\">\n       <use xlink:href=\"#DejaVuSans-51\"/>\n      </g>\n     </g>\n    </g>\n    <g id=\"ytick_5\">\n     <g id=\"line2d_11\">\n      <g>\n       <use style=\"stroke:#000000;stroke-width:0.8;\" x=\"20.5625\" xlink:href=\"#m05364434f7\" y=\"223.408322\"/>\n      </g>\n     </g>\n     <g id=\"text_11\">\n      <!-- 4 -->\n      <g transform=\"translate(7.2 227.20754)scale(0.1 -0.1)\">\n       <use xlink:href=\"#DejaVuSans-52\"/>\n      </g>\n     </g>\n    </g>\n    <g id=\"ytick_6\">\n     <g id=\"line2d_12\">\n      <g>\n       <use style=\"stroke:#000000;stroke-width:0.8;\" x=\"20.5625\" xlink:href=\"#m05364434f7\" y=\"114.380402\"/>\n      </g>\n     </g>\n     <g id=\"text_12\">\n      <!-- 5 -->\n      <g transform=\"translate(7.2 118.179621)scale(0.1 -0.1)\">\n       <use xlink:href=\"#DejaVuSans-53\"/>\n      </g>\n     </g>\n    </g>\n   </g>\n   <g id=\"line2d_13\">\n    <path clip-path=\"url(#p1dbc649af4)\" d=\"M 20.5625 659.52 \nL 690.1625 7.2 \n\" style=\"fill:none;stroke:#1f77b4;stroke-dasharray:5.55,2.4;stroke-dashoffset:0;stroke-width:1.5;\"/>\n   </g>\n   <g id=\"patch_3\">\n    <path d=\"M 20.5625 659.52 \nL 20.5625 7.2 \n\" style=\"fill:none;stroke:#000000;stroke-linecap:square;stroke-linejoin:miter;stroke-width:0.8;\"/>\n   </g>\n   <g id=\"patch_4\">\n    <path d=\"M 690.1625 659.52 \nL 690.1625 7.2 \n\" style=\"fill:none;stroke:#000000;stroke-linecap:square;stroke-linejoin:miter;stroke-width:0.8;\"/>\n   </g>\n   <g id=\"patch_5\">\n    <path d=\"M 20.5625 659.52 \nL 690.1625 659.52 \n\" style=\"fill:none;stroke:#000000;stroke-linecap:square;stroke-linejoin:miter;stroke-width:0.8;\"/>\n   </g>\n   <g id=\"patch_6\">\n    <path d=\"M 20.5625 7.2 \nL 690.1625 7.2 \n\" style=\"fill:none;stroke:#000000;stroke-linecap:square;stroke-linejoin:miter;stroke-width:0.8;\"/>\n   </g>\n   <g id=\"legend_1\">\n    <g id=\"patch_7\">\n     <path d=\"M 27.5625 117.946875 \nL 94.192188 117.946875 \nQ 96.192188 117.946875 96.192188 115.946875 \nL 96.192188 14.2 \nQ 96.192188 12.2 94.192188 12.2 \nL 27.5625 12.2 \nQ 25.5625 12.2 25.5625 14.2 \nL 25.5625 115.946875 \nQ 25.5625 117.946875 27.5625 117.946875 \nz\n\" style=\"fill:#ffffff;opacity:0.8;stroke:#cccccc;stroke-linejoin:miter;\"/>\n    </g>\n    <g id=\"PathCollection_8\">\n     <g>\n      <use style=\"fill:#1f77b4;stroke:#1f77b4;\" x=\"39.5625\" xlink:href=\"#m475c92f229\" y=\"21.173437\"/>\n     </g>\n    </g>\n    <g id=\"text_13\">\n     <!-- layer 1 -->\n     <defs>\n      <path d=\"M 9.421875 75.984375 \nL 18.40625 75.984375 \nL 18.40625 0 \nL 9.421875 0 \nz\n\" id=\"DejaVuSans-108\"/>\n      <path d=\"M 34.28125 27.484375 \nQ 23.390625 27.484375 19.1875 25 \nQ 14.984375 22.515625 14.984375 16.5 \nQ 14.984375 11.71875 18.140625 8.90625 \nQ 21.296875 6.109375 26.703125 6.109375 \nQ 34.1875 6.109375 38.703125 11.40625 \nQ 43.21875 16.703125 43.21875 25.484375 \nL 43.21875 27.484375 \nz\nM 52.203125 31.203125 \nL 52.203125 0 \nL 43.21875 0 \nL 43.21875 8.296875 \nQ 40.140625 3.328125 35.546875 0.953125 \nQ 30.953125 -1.421875 24.3125 -1.421875 \nQ 15.921875 -1.421875 10.953125 3.296875 \nQ 6 8.015625 6 15.921875 \nQ 6 25.140625 12.171875 29.828125 \nQ 18.359375 34.515625 30.609375 34.515625 \nL 43.21875 34.515625 \nL 43.21875 35.40625 \nQ 43.21875 41.609375 39.140625 45 \nQ 35.0625 48.390625 27.6875 48.390625 \nQ 23 48.390625 18.546875 47.265625 \nQ 14.109375 46.140625 10.015625 43.890625 \nL 10.015625 52.203125 \nQ 14.9375 54.109375 19.578125 55.046875 \nQ 24.21875 56 28.609375 56 \nQ 40.484375 56 46.34375 49.84375 \nQ 52.203125 43.703125 52.203125 31.203125 \nz\n\" id=\"DejaVuSans-97\"/>\n      <path d=\"M 32.171875 -5.078125 \nQ 28.375 -14.84375 24.75 -17.8125 \nQ 21.140625 -20.796875 15.09375 -20.796875 \nL 7.90625 -20.796875 \nL 7.90625 -13.28125 \nL 13.1875 -13.28125 \nQ 16.890625 -13.28125 18.9375 -11.515625 \nQ 21 -9.765625 23.484375 -3.21875 \nL 25.09375 0.875 \nL 2.984375 54.6875 \nL 12.5 54.6875 \nL 29.59375 11.921875 \nL 46.6875 54.6875 \nL 56.203125 54.6875 \nz\n\" id=\"DejaVuSans-121\"/>\n      <path d=\"M 56.203125 29.59375 \nL 56.203125 25.203125 \nL 14.890625 25.203125 \nQ 15.484375 15.921875 20.484375 11.0625 \nQ 25.484375 6.203125 34.421875 6.203125 \nQ 39.59375 6.203125 44.453125 7.46875 \nQ 49.3125 8.734375 54.109375 11.28125 \nL 54.109375 2.78125 \nQ 49.265625 0.734375 44.1875 -0.34375 \nQ 39.109375 -1.421875 33.890625 -1.421875 \nQ 20.796875 -1.421875 13.15625 6.1875 \nQ 5.515625 13.8125 5.515625 26.8125 \nQ 5.515625 40.234375 12.765625 48.109375 \nQ 20.015625 56 32.328125 56 \nQ 43.359375 56 49.78125 48.890625 \nQ 56.203125 41.796875 56.203125 29.59375 \nz\nM 47.21875 32.234375 \nQ 47.125 39.59375 43.09375 43.984375 \nQ 39.0625 48.390625 32.421875 48.390625 \nQ 24.90625 48.390625 20.390625 44.140625 \nQ 15.875 39.890625 15.1875 32.171875 \nz\n\" id=\"DejaVuSans-101\"/>\n      <path d=\"M 41.109375 46.296875 \nQ 39.59375 47.171875 37.8125 47.578125 \nQ 36.03125 48 33.890625 48 \nQ 26.265625 48 22.1875 43.046875 \nQ 18.109375 38.09375 18.109375 28.8125 \nL 18.109375 0 \nL 9.078125 0 \nL 9.078125 54.6875 \nL 18.109375 54.6875 \nL 18.109375 46.1875 \nQ 20.953125 51.171875 25.484375 53.578125 \nQ 30.03125 56 36.53125 56 \nQ 37.453125 56 38.578125 55.875 \nQ 39.703125 55.765625 41.0625 55.515625 \nz\n\" id=\"DejaVuSans-114\"/>\n      <path id=\"DejaVuSans-32\"/>\n     </defs>\n     <g transform=\"translate(57.5625 23.798437)scale(0.1 -0.1)\">\n      <use xlink:href=\"#DejaVuSans-108\"/>\n      <use x=\"27.783203\" xlink:href=\"#DejaVuSans-97\"/>\n      <use x=\"89.0625\" xlink:href=\"#DejaVuSans-121\"/>\n      <use x=\"148.242188\" xlink:href=\"#DejaVuSans-101\"/>\n      <use x=\"209.765625\" xlink:href=\"#DejaVuSans-114\"/>\n      <use x=\"250.878906\" xlink:href=\"#DejaVuSans-32\"/>\n      <use x=\"282.666016\" xlink:href=\"#DejaVuSans-49\"/>\n     </g>\n    </g>\n    <g id=\"PathCollection_9\">\n     <g>\n      <use style=\"fill:#ff7f0e;stroke:#ff7f0e;\" x=\"39.5625\" xlink:href=\"#m6fac6e942c\" y=\"35.851562\"/>\n     </g>\n    </g>\n    <g id=\"text_14\">\n     <!-- layer 2 -->\n     <g transform=\"translate(57.5625 38.476562)scale(0.1 -0.1)\">\n      <use xlink:href=\"#DejaVuSans-108\"/>\n      <use x=\"27.783203\" xlink:href=\"#DejaVuSans-97\"/>\n      <use x=\"89.0625\" xlink:href=\"#DejaVuSans-121\"/>\n      <use x=\"148.242188\" xlink:href=\"#DejaVuSans-101\"/>\n      <use x=\"209.765625\" xlink:href=\"#DejaVuSans-114\"/>\n      <use x=\"250.878906\" xlink:href=\"#DejaVuSans-32\"/>\n      <use x=\"282.666016\" xlink:href=\"#DejaVuSans-50\"/>\n     </g>\n    </g>\n    <g id=\"PathCollection_10\">\n     <g>\n      <use style=\"fill:#2ca02c;stroke:#2ca02c;\" x=\"39.5625\" xlink:href=\"#m1814fcfd47\" y=\"50.529688\"/>\n     </g>\n    </g>\n    <g id=\"text_15\">\n     <!-- layer 3 -->\n     <g transform=\"translate(57.5625 53.154688)scale(0.1 -0.1)\">\n      <use xlink:href=\"#DejaVuSans-108\"/>\n      <use x=\"27.783203\" xlink:href=\"#DejaVuSans-97\"/>\n      <use x=\"89.0625\" xlink:href=\"#DejaVuSans-121\"/>\n      <use x=\"148.242188\" xlink:href=\"#DejaVuSans-101\"/>\n      <use x=\"209.765625\" xlink:href=\"#DejaVuSans-114\"/>\n      <use x=\"250.878906\" xlink:href=\"#DejaVuSans-32\"/>\n      <use x=\"282.666016\" xlink:href=\"#DejaVuSans-51\"/>\n     </g>\n    </g>\n    <g id=\"PathCollection_11\">\n     <g>\n      <use style=\"fill:#d62728;stroke:#d62728;\" x=\"39.5625\" xlink:href=\"#m93f0c57300\" y=\"65.207812\"/>\n     </g>\n    </g>\n    <g id=\"text_16\">\n     <!-- layer 4 -->\n     <g transform=\"translate(57.5625 67.832812)scale(0.1 -0.1)\">\n      <use xlink:href=\"#DejaVuSans-108\"/>\n      <use x=\"27.783203\" xlink:href=\"#DejaVuSans-97\"/>\n      <use x=\"89.0625\" xlink:href=\"#DejaVuSans-121\"/>\n      <use x=\"148.242188\" xlink:href=\"#DejaVuSans-101\"/>\n      <use x=\"209.765625\" xlink:href=\"#DejaVuSans-114\"/>\n      <use x=\"250.878906\" xlink:href=\"#DejaVuSans-32\"/>\n      <use x=\"282.666016\" xlink:href=\"#DejaVuSans-52\"/>\n     </g>\n    </g>\n    <g id=\"PathCollection_12\">\n     <g>\n      <use style=\"fill:#9467bd;stroke:#9467bd;\" x=\"39.5625\" xlink:href=\"#mdf8c78c1f6\" y=\"79.885937\"/>\n     </g>\n    </g>\n    <g id=\"text_17\">\n     <!-- layer 5 -->\n     <g transform=\"translate(57.5625 82.510937)scale(0.1 -0.1)\">\n      <use xlink:href=\"#DejaVuSans-108\"/>\n      <use x=\"27.783203\" xlink:href=\"#DejaVuSans-97\"/>\n      <use x=\"89.0625\" xlink:href=\"#DejaVuSans-121\"/>\n      <use x=\"148.242188\" xlink:href=\"#DejaVuSans-101\"/>\n      <use x=\"209.765625\" xlink:href=\"#DejaVuSans-114\"/>\n      <use x=\"250.878906\" xlink:href=\"#DejaVuSans-32\"/>\n      <use x=\"282.666016\" xlink:href=\"#DejaVuSans-53\"/>\n     </g>\n    </g>\n    <g id=\"PathCollection_13\">\n     <g>\n      <use style=\"fill:#8c564b;stroke:#8c564b;\" x=\"39.5625\" xlink:href=\"#m4098df5468\" y=\"94.564062\"/>\n     </g>\n    </g>\n    <g id=\"text_18\">\n     <!-- layer 6 -->\n     <defs>\n      <path d=\"M 33.015625 40.375 \nQ 26.375 40.375 22.484375 35.828125 \nQ 18.609375 31.296875 18.609375 23.390625 \nQ 18.609375 15.53125 22.484375 10.953125 \nQ 26.375 6.390625 33.015625 6.390625 \nQ 39.65625 6.390625 43.53125 10.953125 \nQ 47.40625 15.53125 47.40625 23.390625 \nQ 47.40625 31.296875 43.53125 35.828125 \nQ 39.65625 40.375 33.015625 40.375 \nz\nM 52.59375 71.296875 \nL 52.59375 62.3125 \nQ 48.875 64.0625 45.09375 64.984375 \nQ 41.3125 65.921875 37.59375 65.921875 \nQ 27.828125 65.921875 22.671875 59.328125 \nQ 17.53125 52.734375 16.796875 39.40625 \nQ 19.671875 43.65625 24.015625 45.921875 \nQ 28.375 48.1875 33.59375 48.1875 \nQ 44.578125 48.1875 50.953125 41.515625 \nQ 57.328125 34.859375 57.328125 23.390625 \nQ 57.328125 12.15625 50.6875 5.359375 \nQ 44.046875 -1.421875 33.015625 -1.421875 \nQ 20.359375 -1.421875 13.671875 8.265625 \nQ 6.984375 17.96875 6.984375 36.375 \nQ 6.984375 53.65625 15.1875 63.9375 \nQ 23.390625 74.21875 37.203125 74.21875 \nQ 40.921875 74.21875 44.703125 73.484375 \nQ 48.484375 72.75 52.59375 71.296875 \nz\n\" id=\"DejaVuSans-54\"/>\n     </defs>\n     <g transform=\"translate(57.5625 97.189062)scale(0.1 -0.1)\">\n      <use xlink:href=\"#DejaVuSans-108\"/>\n      <use x=\"27.783203\" xlink:href=\"#DejaVuSans-97\"/>\n      <use x=\"89.0625\" xlink:href=\"#DejaVuSans-121\"/>\n      <use x=\"148.242188\" xlink:href=\"#DejaVuSans-101\"/>\n      <use x=\"209.765625\" xlink:href=\"#DejaVuSans-114\"/>\n      <use x=\"250.878906\" xlink:href=\"#DejaVuSans-32\"/>\n      <use x=\"282.666016\" xlink:href=\"#DejaVuSans-54\"/>\n     </g>\n    </g>\n    <g id=\"PathCollection_14\">\n     <g>\n      <use style=\"fill:#e377c2;stroke:#e377c2;\" x=\"39.5625\" xlink:href=\"#m0c3d5d4880\" y=\"109.242188\"/>\n     </g>\n    </g>\n    <g id=\"text_19\">\n     <!-- layer 7 -->\n     <defs>\n      <path d=\"M 8.203125 72.90625 \nL 55.078125 72.90625 \nL 55.078125 68.703125 \nL 28.609375 0 \nL 18.3125 0 \nL 43.21875 64.59375 \nL 8.203125 64.59375 \nz\n\" id=\"DejaVuSans-55\"/>\n     </defs>\n     <g transform=\"translate(57.5625 111.867188)scale(0.1 -0.1)\">\n      <use xlink:href=\"#DejaVuSans-108\"/>\n      <use x=\"27.783203\" xlink:href=\"#DejaVuSans-97\"/>\n      <use x=\"89.0625\" xlink:href=\"#DejaVuSans-121\"/>\n      <use x=\"148.242188\" xlink:href=\"#DejaVuSans-101\"/>\n      <use x=\"209.765625\" xlink:href=\"#DejaVuSans-114\"/>\n      <use x=\"250.878906\" xlink:href=\"#DejaVuSans-32\"/>\n      <use x=\"282.666016\" xlink:href=\"#DejaVuSans-55\"/>\n     </g>\n    </g>\n   </g>\n  </g>\n </g>\n <defs>\n  <clipPath id=\"p1dbc649af4\">\n   <rect height=\"652.32\" width=\"669.6\" x=\"20.5625\" y=\"7.2\"/>\n  </clipPath>\n </defs>\n</svg>\n",
      "image/png": "[encoded data removed]"
     },
     "metadata": {
      "needs_background": "light"
     }
    }
   ],
   "source": [
    "from matplotlib import pyplot as plt\n",
    "\n",
    "f, ax = plt.subplots(figsize=(12, 12))\n",
    "reference = MatrixBasedRenyisEntropy.entropy(model.get_matrix()[0].A).cpu()\n",
    "ax.set(xlim=(0, reference), ylim=(0, reference))\n",
    "\n",
    "Ixt, Ity = ip.get_mi()\n",
    "for idx in range(len(Ixt)):\n",
    "    # if idx < 3:\n",
    "    #     continue\n",
    "    current_Ixt = Ixt[idx]\n",
    "    current_Ity = Ity[idx]\n",
    "    ax.scatter(current_Ixt, current_Ity, label=\"layer {}\".format(idx+1))\n",
    "\n",
    "ax.plot([0, 1], [0, 1], transform=ax.transAxes, linestyle='dashed')\n",
    "plt.legend()\n",
    "f.show()"
   ]
  },
  {
   "cell_type": "code",
   "execution_count": 25,
   "metadata": {},
   "outputs": [],
   "source": [
    "Ax = ip.matrices_per_layers[0].A\n",
    "Ay = ip.matrices_per_layers[-1].A"
   ]
  },
  {
   "cell_type": "code",
   "execution_count": 26,
   "metadata": {},
   "outputs": [
    {
     "output_type": "stream",
     "name": "stdout",
     "text": [
      "tensor([[0.0010, 0.0003, 0.0004,  ..., 0.0005, 0.0003, 0.0003],\n        [0.0003, 0.0010, 0.0003,  ..., 0.0002, 0.0002, 0.0002],\n        [0.0004, 0.0003, 0.0010,  ..., 0.0004, 0.0003, 0.0003],\n        ...,\n        [0.0005, 0.0002, 0.0004,  ..., 0.0010, 0.0002, 0.0003],\n        [0.0003, 0.0002, 0.0003,  ..., 0.0002, 0.0010, 0.0003],\n        [0.0003, 0.0002, 0.0003,  ..., 0.0003, 0.0003, 0.0010]])\n"
     ]
    }
   ],
   "source": [
    "print(Ax)"
   ]
  },
  {
   "cell_type": "code",
   "execution_count": 27,
   "metadata": {},
   "outputs": [
    {
     "output_type": "stream",
     "name": "stdout",
     "text": [
      "tensor([[0.0010, 0.0003, 0.0005,  ..., 0.0007, 0.0005, 0.0004],\n        [0.0003, 0.0010, 0.0005,  ..., 0.0004, 0.0004, 0.0004],\n        [0.0005, 0.0005, 0.0010,  ..., 0.0006, 0.0005, 0.0005],\n        ...,\n        [0.0007, 0.0004, 0.0006,  ..., 0.0010, 0.0005, 0.0005],\n        [0.0005, 0.0004, 0.0005,  ..., 0.0005, 0.0010, 0.0005],\n        [0.0004, 0.0004, 0.0005,  ..., 0.0005, 0.0005, 0.0010]])\n"
     ]
    }
   ],
   "source": [
    "print(Ay)"
   ]
  },
  {
   "cell_type": "code",
   "execution_count": 12,
   "metadata": {},
   "outputs": [],
   "source": [
    "inputs, _ = next(iter(test_loader))"
   ]
  },
  {
   "cell_type": "code",
   "execution_count": 14,
   "metadata": {},
   "outputs": [
    {
     "output_type": "execute_result",
     "data": {
      "text/plain": [
       "tensor(-1.)"
      ]
     },
     "metadata": {},
     "execution_count": 14
    }
   ],
   "source": [
    "inputs.min()"
   ]
  },
  {
   "cell_type": "code",
   "execution_count": null,
   "metadata": {},
   "outputs": [],
   "source": []
  }
 ]
}